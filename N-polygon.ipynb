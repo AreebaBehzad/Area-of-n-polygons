{
 "cells": [
  {
   "cell_type": "code",
   "execution_count": 2,
   "id": "29144212-dd78-40b7-a45b-10561fc824d4",
   "metadata": {},
   "outputs": [
    {
     "name": "stdin",
     "output_type": "stream",
     "text": [
      "enter shape for area: Heptagon\n",
      "enter a value:  4\n",
      "enter h value:  3\n"
     ]
    },
    {
     "name": "stdout",
     "output_type": "stream",
     "text": [
      "42.0\n"
     ]
    }
   ],
   "source": [
    "import math\n",
    "\n",
    "\n",
    "def area(shape):\n",
    "  if shape == \"Quadrilateral\":\n",
    "    #quad\n",
    "    b=float(input(\"enter base: \"))\n",
    "    h=float(input(\"enter height: \"))\n",
    "    A=quad(b,h)\n",
    "    print(A)\n",
    "  elif shape == \"Hexagon\":\n",
    "    a=float(input(\"enter a value: \"))\n",
    "    p=float(input(\"enter p value: \"))\n",
    "    A=hex(a,p)\n",
    "    print(A)\n",
    "  elif shape == \"Pentagon\":\n",
    "    a=float(input(\"enter a value: \"))\n",
    "    p=float(input(\"enter p value: \"))\n",
    "    A=hex(a,p)\n",
    "    print(A)\n",
    "\n",
    "  elif shape == \"Heptagon\":\n",
    "\n",
    "    a=float(input(\"enter a value: \"))\n",
    "    h=float(input(\"enter h value: \"))\n",
    "    A=hep(a,h)\n",
    "    print(A)\n",
    "\n",
    "  elif shape == \"triangle\":\n",
    "    #triangle\n",
    "    b=float(input(\"enter b value: \"))\n",
    "    h=float(input(\"enter h value: \"))\n",
    "    A=triangle(b,h)\n",
    "    print(A)\n",
    "\n",
    "  else:\n",
    "    print(\"worng input\")\n",
    "\n",
    "def quad(b,h):\n",
    "  q_area=b*(h*h)\n",
    "  return q_area\n",
    "\n",
    "def Pentagon(a,p):\n",
    "  p_area=1/2*a*p\n",
    "  return p_area\n",
    "\n",
    "\n",
    "def hex(a,p):\n",
    "  h_area=1/2*a*p\n",
    "  return h_area\n",
    "\n",
    "def hep(a,h):\n",
    "  he_area = a*h/4\n",
    "  hee_area = he_area * 14\n",
    "  return hee_area\n",
    "\n",
    "def triangle(b,h):\n",
    "  t_area=b*h/2\n",
    "  return t_area\n",
    "\n",
    "\n",
    "\n",
    "\n",
    "shape=input(\"enter shape for area:\")\n",
    "u_area=area(shape)\n",
    "u_area\n"
   ]
  },
  {
   "cell_type": "code",
   "execution_count": null,
   "id": "0d1fd606-7d49-40c3-935c-4f6cb348dc49",
   "metadata": {},
   "outputs": [],
   "source": []
  }
 ],
 "metadata": {
  "kernelspec": {
   "display_name": "Python 3 (ipykernel)",
   "language": "python",
   "name": "python3"
  },
  "language_info": {
   "codemirror_mode": {
    "name": "ipython",
    "version": 3
   },
   "file_extension": ".py",
   "mimetype": "text/x-python",
   "name": "python",
   "nbconvert_exporter": "python",
   "pygments_lexer": "ipython3",
   "version": "3.11.7"
  }
 },
 "nbformat": 4,
 "nbformat_minor": 5
}
